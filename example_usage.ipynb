{
 "cells": [
  {
   "cell_type": "markdown",
   "metadata": {},
   "source": [
    "# Pylazybam example useage\n",
    "\n",
    "Matthew Wakefield\n",
    "\n",
    "<small>The Walter and Eliza Hall Institute and The University of Melbourne</small>"
   ]
  },
  {
   "cell_type": "markdown",
   "metadata": {},
   "source": [
    "This example file is intended to give a flavour of the potential usages of pylazybam. As a library intened for interactive use in notebooks and bespoke scripts its intentionally very open ended and flexable.\n",
    "\n",
    "First you will need to install pylazybam following the instructions in the readme. There are no dependencies, so this should be easy even on Windows and ARM based linux, although you will have issues with anything other than trivial BAM files on a Raspberry Pi."
   ]
  },
  {
   "cell_type": "code",
   "execution_count": 1,
   "metadata": {},
   "outputs": [],
   "source": [
    "from pylazybam import bam\n",
    "import gzip"
   ]
  },
  {
   "cell_type": "markdown",
   "metadata": {},
   "source": [
    "We import as `bam` as it gives an easy to type, short, safe and descriptive namespace.\n",
    "You can get help on pylazybam functions by using `help()` or in a notebook prefacing with a `?`"
   ]
  },
  {
   "cell_type": "code",
   "execution_count": 2,
   "metadata": {},
   "outputs": [
    {
     "data": {
      "text/plain": [
       "\u001b[0;31mInit signature:\u001b[0m \u001b[0mbam\u001b[0m\u001b[0;34m.\u001b[0m\u001b[0mFileReader\u001b[0m\u001b[0;34m(\u001b[0m\u001b[0mubam\u001b[0m\u001b[0;34m:\u001b[0m \u001b[0;34m<\u001b[0m\u001b[0;32mclass\u001b[0m \u001b[0;34m'BinaryIO'\u001b[0m\u001b[0;34m>\u001b[0m\u001b[0;34m)\u001b[0m\u001b[0;34m\u001b[0m\u001b[0;34m\u001b[0m\u001b[0m\n",
       "\u001b[0;31mDocstring:\u001b[0m     \n",
       "A Pure Python Lazy Bam Parser Class\n",
       "\n",
       "Parameters\n",
       "----------\n",
       "    ubam : BinaryIO\n",
       "        An binary (bytes) file or stream containing a valid uncompressed\n",
       "        bam file conforming to the specification.\n",
       "\n",
       "Yields\n",
       "------\n",
       "    align : bytes\n",
       "        A byte string of a bam alignment entry in raw binary format\n",
       "\n",
       "Attributes\n",
       "----------\n",
       "    header : str\n",
       "        The ASCII representation of the header\n",
       "\n",
       "    index_to_ref : Dict[int:str]\n",
       "        A dictionary mapping bam reference numeric identifiers to names\n",
       "\n",
       "    raw_header : bytes\n",
       "        The raw bytestring representing the bam header\n",
       "\n",
       "    raw_refs : bytes\n",
       "        The raw bytestring representing the reference sequences\n",
       "\n",
       "    refs : Dict[str:int]\n",
       "        A dictionary of reference_name keys with reference_length\n",
       "\n",
       "    ref_to_index : Dict[str:int]\n",
       "        A dictionary mapping reference names to the bam numeric identifier\n",
       "\n",
       "    sort_order : str\n",
       "        The value of the SO field indicating sort type. Value is as given in\n",
       "        the BAM file.\n",
       "        Should be one of 'unknown', 'unsorted', 'queryname' or 'coordinate'\n",
       "\n",
       "Notes\n",
       "-----\n",
       "    It is advisable not to call the private functions or operate directly\n",
       "    on the underlying file object.\n",
       "\n",
       "    The detailed specification for the BAM format can be found at\n",
       "    https://samtools.github.io/hts-specs/SAMv1.pdf\n",
       "\n",
       "Example\n",
       "-------\n",
       "    This class requires an uncompressed bam file as input.\n",
       "    For this example we will use gzip to decompress the test file included\n",
       "    as a resource in the package\n",
       "\n",
       "    >>> import gzip\n",
       "    >>> from pkg_resources import resource_stream\n",
       "    >>> ubam = gzip.open('/tests/data/paired_end_testdata_human.bam'))\n",
       "\n",
       "    A bam filereader object can then be created and headers inspected\n",
       "    >>> mybam = bam.FileReader(ubam)\n",
       "    >>> print(mybam.header)\n",
       "\n",
       "    The filereader object is an iterator and yields alignments in raw format\n",
       "    >>> align = next(mybam)\n",
       "\n",
       "    Alignments can be processed using functions from pylazybam.bam\n",
       "    >>> print(mybam.index_to_ref[get_ref_index(align)],\n",
       "    >>>       get_pos(align),\n",
       "    >>>       get_AS(align))\n",
       "\u001b[0;31mInit docstring:\u001b[0m         \n",
       "\u001b[0;31mFile:\u001b[0m           ~/repos/pylazybam/pylazybam/bam.py\n",
       "\u001b[0;31mType:\u001b[0m           type\n"
      ]
     },
     "metadata": {},
     "output_type": "display_data"
    }
   ],
   "source": [
    "?bam.FileReader"
   ]
  },
  {
   "cell_type": "markdown",
   "metadata": {},
   "source": [
    "We are using data generated by the NYU genome centre from one of the well know genome in a bottle references. This case has been sequenced to high depth, and mapped against a GRCh38 reference with decoys and ALTs\n",
    "It can be downloaded from `lftp ftp://ftp.sra.ebi.ac.uk/vol1/run/ERR323/ERR3239484/NA12778.final.cram`\n",
    "The file we are using has had some manipulations done on it with `samtools view` but the exact manipulations have been lost to the mists of time and advancing years of the operator. Time for some bioinfosleuthing<sup>(tm)</sup> Lets open the file up and have a look at what we can see."
   ]
  },
  {
   "cell_type": "code",
   "execution_count": 3,
   "metadata": {},
   "outputs": [
    {
     "name": "stdout",
     "output_type": "stream",
     "text": [
      "@PG\tID:MarkDuplicates\tVN:2.4.1(7c4d36e011df1aec4689b51efcada44e92d1817f_1464389670)\tCL:picard.sam.markduplicates.MarkDuplicates INPUT=[/data/analysis/DarnellR/Project_CCDG_13607_B01_GRM_WGS/Sample_NA12778/analysis/NA12778.merged.bam] OUTPUT=/scratch/3ad0b0f54a6c428eb90eea99b52683dd/NA12778.bam METRICS_FILE=/data/analysis/DarnellR/Project_CCDG_13607_B01_GRM_WGS/Sample_NA12778/qc/NA12778.dedup.metrics VALIDATION_STRINGENCY=SILENT COMPRESSION_LEVEL=0 MAX_RECORDS_IN_RAM=2000000    MAX_SEQUENCES_FOR_DISK_READ_ENDS_MAP=50000 MAX_FILE_HANDLES_FOR_READ_ENDS_MAP=8000 SORTING_COLLECTION_SIZE_RATIO=0.25 REMOVE_SEQUENCING_DUPLICATES=false TAGGING_POLICY=DontTag REMOVE_DUPLICATES=false ASSUME_SORTED=false DUPLICATE_SCORING_STRATEGY=SUM_OF_BASE_QUALITIES PROGRAM_RECORD_ID=MarkDuplicates PROGRAM_GROUP_NAME=MarkDuplicates READ_NAME_REGEX=<optimized capture of last three ':' separated fields as numeric values> OPTICAL_DUPLICATE_PIXEL_DISTANCE=100 VERBOSITY=INFO QUIET=false CREATE_INDEX=false CREATE_MD5_FILE=false GA4GH_CLIENT_SECRETS=client_secrets.json\tPN:MarkDuplicates\n",
      "@PG\tID:bwa\tPN:bwa\tVN:0.7.15-r1140\tCL:/data/NYGC/Software/bwa/bwa-0.7.15/bwa mem -Y -K 100000000 -t 16 -R @RG\\tID:NA12778_CTCACCAA-CTAGGCAA_HFKV5DSXX_L003\\tPL:illumina\\tPM:Unknown\\tLB:NA12778\\tDS:GRCh38\\tSM:NA12778\\tCN:NYGenome\\tPU:HFKV5DSXX.3.CTCACCAA /gpfs/internal/sweng/production/Resources/GRCh38_1000genomes/GRCh38_full_analysis_set_plus_decoy_hla.fa /gpfs/internal/sequence/demux/ILLUMINA_NOVASEQ/SNA00404/181118_SNA00404_0047_BHFKV5DSXX/01.2018-11-20_11.07.57/CCDG_13607_B01_GRM_WGS/NYGC/Project_CCDG_13607_B01_GRM_WGS/Sample_NA12778/NA12778_CTCACCAA-CTAGGCAA_HFKV5DSXX_L003/fastq/NA12778_CTCACCAA-CTAGGCAA_HFKV5DSXX_L003_001.R1.fastq.gz /gpfs/internal/sequence/demux/ILLUMINA_NOVASEQ/SNA00404/181118_SNA00404_0047_BHFKV5DSXX/01.2018-11-20_11.07.57/CCDG_13607_B01_GRM_WGS/NYGC/Project_CCDG_13607_B01_GRM_WGS/Sample_NA12778/NA12778_CTCACCAA-CTAGGCAA_HFKV5DSXX_L003/fastq/NA12778_CTCACCAA-CTAGGCAA_HFKV5DSXX_L003_001.R2.fastq.gz\n",
      "@PG\tID:bwa.1\tPN:bwa\tVN:0.7.15-r1140\tCL:/data/NYGC/Software/bwa/bwa-0.7.15/bwa mem -Y -K 100000000 -t 16 -R @RG\\tID:NA12778_CTCACCAA-CTAGGCAA_HCKWTDSXX_L003\\tPL:illumina\\tPM:Unknown\\tLB:NA12778\\tDS:GRCh38\\tSM:NA12778\\tCN:NYGenome\\tPU:HCKWTDSXX.3.CTCACCAA /gpfs/internal/sweng/production/Resources/GRCh38_1000genomes/GRCh38_full_analysis_set_plus_decoy_hla.fa /gpfs/internal/sequence/demux/ILLUMINA_NOVASEQ/SNA00132/181109_SNA00132_0055_BHCKWTDSXX/01.2018-11-11_11.00.38/CCDG_13607_B01_GRM_WGS/NYGC/Project_CCDG_13607_B01_GRM_WGS/Sample_NA12778/NA12778_CTCACCAA-CTAGGCAA_HCKWTDSXX_L003/fastq/NA12778_CTCACCAA-CTAGGCAA_HCKWTDSXX_L003_001.R1.fastq.gz /gpfs/internal/sequence/demux/ILLUMINA_NOVASEQ/SNA00132/181109_SNA00132_0055_BHCKWTDSXX/01.2018-11-11_11.00.38/CCDG_13607_B01_GRM_WGS/NYGC/Project_CCDG_13607_B01_GRM_WGS/Sample_NA12778/NA12778_CTCACCAA-CTAGGCAA_HCKWTDSXX_L003/fastq/NA12778_CTCACCAA-CTAGGCAA_HCKWTDSXX_L003_001.R2.fastq.gz\n",
      "@PG\tID:bwa.2\tPN:bwa\tVN:0.7.15-r1140\tCL:/data/NYGC/Software/bwa/bwa-0.7.15/bwa mem -Y -K 100000000 -t 16 -R @RG\\tID:NA12778_CTCACCAA-CTAGGCAA_HFKV5DSXX_L002\\tPL:illumina\\tPM:Unknown\\tLB:NA12778\\tDS:GRCh38\\tSM:NA12778\\tCN:NYGenome\\tPU:HFKV5DSXX.2.CTCACCAA /gpfs/internal/sweng/production/Resources/GRCh38_1000genomes/GRCh38_full_analysis_set_plus_decoy_hla.fa /gpfs/internal/sequence/demux/ILLUMINA_NOVASEQ/SNA00404/181118_SNA00404_0047_BHFKV5DSXX/01.2018-11-20_11.07.57/CCDG_13607_B01_GRM_WGS/NYGC/Project_CCDG_13607_B01_GRM_WGS/Sample_NA12778/NA12778_CTCACCAA-CTAGGCAA_HFKV5DSXX_L002/fastq/NA12778_CTCACCAA-CTAGGCAA_HFKV5DSXX_L002_001.R1.fastq.gz /gpfs/internal/sequence/demux/ILLUMINA_NOVASEQ/SNA00404/181118_SNA00404_0047_BHFKV5DSXX/01.2018-11-20_11.07.57/CCDG_13607_B01_GRM_WGS/NYGC/Project_CCDG_13607_B01_GRM_WGS/Sample_NA12778/NA12778_CTCACCAA-CTAGGCAA_HFKV5DSXX_L002/fastq/NA12778_CTCACCAA-CTAGGCAA_HFKV5DSXX_L002_001.R2.fastq.gz\n",
      "@PG\tID:bwa.3\tPN:bwa\tVN:0.7.15-r1140\tCL:/data/NYGC/Software/bwa/bwa-0.7.15/bwa mem -Y -K 100000000 -t 16 -R @RG\\tID:NA12778_CTCACCAA-CTAGGCAA_HCKWTDSXX_L001\\tPL:illumina\\tPM:Unknown\\tLB:NA12778\\tDS:GRCh38\\tSM:NA12778\\tCN:NYGenome\\tPU:HCKWTDSXX.1.CTCACCAA /gpfs/internal/sweng/production/Resources/GRCh38_1000genomes/GRCh38_full_analysis_set_plus_decoy_hla.fa /gpfs/internal/sequence/demux/ILLUMINA_NOVASEQ/SNA00132/181109_SNA00132_0055_BHCKWTDSXX/01.2018-11-11_11.00.38/CCDG_13607_B01_GRM_WGS/NYGC/Project_CCDG_13607_B01_GRM_WGS/Sample_NA12778/NA12778_CTCACCAA-CTAGGCAA_HCKWTDSXX_L001/fastq/NA12778_CTCACCAA-CTAGGCAA_HCKWTDSXX_L001_001.R1.fastq.gz /gpfs/internal/sequence/demux/ILLUMINA_NOVASEQ/SNA00132/181109_SNA00132_0055_BHCKWTDSXX/01.2018-11-11_11.00.38/CCDG_13607_B01_GRM_WGS/NYGC/Project_CCDG_13607_B01_GRM_WGS/Sample_NA12778/NA12778_CTCACCAA-CTAGGCAA_HCKWTDSXX_L001/fastq/NA12778_CTCACCAA-CTAGGCAA_HCKWTDSXX_L001_001.R2.fastq.gz\n",
      "@PG\tID:bwa.4\tPN:bwa\tVN:0.7.15-r1140\tCL:/data/NYGC/Software/bwa/bwa-0.7.15/bwa mem -Y -K 100000000 -t 16 -R @RG\\tID:NA12778_CTCACCAA-CTAGGCAA_HCKWTDSXX_L002\\tPL:illumina\\tPM:Unknown\\tLB:NA12778\\tDS:GRCh38\\tSM:NA12778\\tCN:NYGenome\\tPU:HCKWTDSXX.2.CTCACCAA /gpfs/internal/sweng/production/Resources/GRCh38_1000genomes/GRCh38_full_analysis_set_plus_decoy_hla.fa /gpfs/internal/sequence/demux/ILLUMINA_NOVASEQ/SNA00132/181109_SNA00132_0055_BHCKWTDSXX/01.2018-11-11_11.00.38/CCDG_13607_B01_GRM_WGS/NYGC/Project_CCDG_13607_B01_GRM_WGS/Sample_NA12778/NA12778_CTCACCAA-CTAGGCAA_HCKWTDSXX_L002/fastq/NA12778_CTCACCAA-CTAGGCAA_HCKWTDSXX_L002_001.R1.fastq.gz /gpfs/internal/sequence/demux/ILLUMINA_NOVASEQ/SNA00132/181109_SNA00132_0055_BHCKWTDSXX/01.2018-11-11_11.00.38/CCDG_13607_B01_GRM_WGS/NYGC/Project_CCDG_13607_B01_GRM_WGS/Sample_NA12778/NA12778_CTCACCAA-CTAGGCAA_HCKWTDSXX_L002/fastq/NA12778_CTCACCAA-CTAGGCAA_HCKWTDSXX_L002_001.R2.fastq.gz\n",
      "@PG\tID:bwa.5\tPN:bwa\tVN:0.7.15-r1140\tCL:/data/NYGC/Software/bwa/bwa-0.7.15/bwa mem -Y -K 100000000 -t 16 -R @RG\\tID:NA12778_CTCACCAA-CTAGGCAA_HFKGLDSXX_L003\\tPL:illumina\\tPM:Unknown\\tLB:NA12778\\tDS:GRCh38\\tSM:NA12778\\tCN:NYGenome\\tPU:HFKGLDSXX.3.CTCACCAA /gpfs/internal/sweng/production/Resources/GRCh38_1000genomes/GRCh38_full_analysis_set_plus_decoy_hla.fa /gpfs/internal/sequence/demux/ILLUMINA_NOVASEQ/SNA00404/181118_SNA00404_0046_AHFKGLDSXX/01.2018-11-20_11.05.20/CCDG_13607_B01_GRM_WGS/NYGC/Project_CCDG_13607_B01_GRM_WGS/Sample_NA12778/NA12778_CTCACCAA-CTAGGCAA_HFKGLDSXX_L003/fastq/NA12778_CTCACCAA-CTAGGCAA_HFKGLDSXX_L003_001.R1.fastq.gz /gpfs/internal/sequence/demux/ILLUMINA_NOVASEQ/SNA00404/181118_SNA00404_0046_AHFKGLDSXX/01.2018-11-20_11.05.20/CCDG_13607_B01_GRM_WGS/NYGC/Project_CCDG_13607_B01_GRM_WGS/Sample_NA12778/NA12778_CTCACCAA-CTAGGCAA_HFKGLDSXX_L003/fastq/NA12778_CTCACCAA-CTAGGCAA_HFKGLDSXX_L003_001.R2.fastq.gz\n",
      "@PG\tID:bwa.6\tPN:bwa\tVN:0.7.15-r1140\tCL:/data/NYGC/Software/bwa/bwa-0.7.15/bwa mem -Y -K 100000000 -t 16 -R @RG\\tID:NA12778_CTCACCAA-CTAGGCAA_HFKV5DSXX_L004\\tPL:illumina\\tPM:Unknown\\tLB:NA12778\\tDS:GRCh38\\tSM:NA12778\\tCN:NYGenome\\tPU:HFKV5DSXX.4.CTCACCAA /gpfs/internal/sweng/production/Resources/GRCh38_1000genomes/GRCh38_full_analysis_set_plus_decoy_hla.fa /gpfs/internal/sequence/demux/ILLUMINA_NOVASEQ/SNA00404/181118_SNA00404_0047_BHFKV5DSXX/01.2018-11-20_11.07.57/CCDG_13607_B01_GRM_WGS/NYGC/Project_CCDG_13607_B01_GRM_WGS/Sample_NA12778/NA12778_CTCACCAA-CTAGGCAA_HFKV5DSXX_L004/fastq/NA12778_CTCACCAA-CTAGGCAA_HFKV5DSXX_L004_001.R1.fastq.gz /gpfs/internal/sequence/demux/ILLUMINA_NOVASEQ/SNA00404/181118_SNA00404_0047_BHFKV5DSXX/01.2018-11-20_11.07.57/CCDG_13607_B01_GRM_WGS/NYGC/Project_CCDG_13607_B01_GRM_WGS/Sample_NA12778/NA12778_CTCACCAA-CTAGGCAA_HFKV5DSXX_L004/fastq/NA12778_CTCACCAA-CTAGGCAA_HFKV5DSXX_L004_001.R2.fastq.gz\n",
      "@PG\tID:bwa.7\tPN:bwa\tVN:0.7.15-r1140\tCL:/data/NYGC/Software/bwa/bwa-0.7.15/bwa mem -Y -K 100000000 -t 16 -R @RG\\tID:NA12778_CTCACCAA-CTAGGCAA_HFKGLDSXX_L002\\tPL:illumina\\tPM:Unknown\\tLB:NA12778\\tDS:GRCh38\\tSM:NA12778\\tCN:NYGenome\\tPU:HFKGLDSXX.2.CTCACCAA /gpfs/internal/sweng/production/Resources/GRCh38_1000genomes/GRCh38_full_analysis_set_plus_decoy_hla.fa /gpfs/internal/sequence/demux/ILLUMINA_NOVASEQ/SNA00404/181118_SNA00404_0046_AHFKGLDSXX/01.2018-11-20_11.05.20/CCDG_13607_B01_GRM_WGS/NYGC/Project_CCDG_13607_B01_GRM_WGS/Sample_NA12778/NA12778_CTCACCAA-CTAGGCAA_HFKGLDSXX_L002/fastq/NA12778_CTCACCAA-CTAGGCAA_HFKGLDSXX_L002_001.R1.fastq.gz /gpfs/internal/sequence/demux/ILLUMINA_NOVASEQ/SNA00404/181118_SNA00404_0046_AHFKGLDSXX/01.2018-11-20_11.05.20/CCDG_13607_B01_GRM_WGS/NYGC/Project_CCDG_13607_B01_GRM_WGS/Sample_NA12778/NA12778_CTCACCAA-CTAGGCAA_HFKGLDSXX_L002/fastq/NA12778_CTCACCAA-CTAGGCAA_HFKGLDSXX_L002_001.R2.fastq.gz\n",
      "@PG\tID:bwa.8\tPN:bwa\tVN:0.7.15-r1140\tCL:/data/NYGC/Software/bwa/bwa-0.7.15/bwa mem -Y -K 100000000 -t 16 -R @RG\\tID:NA12778_CTCACCAA-CTAGGCAA_HFKGLDSXX_L001\\tPL:illumina\\tPM:Unknown\\tLB:NA12778\\tDS:GRCh38\\tSM:NA12778\\tCN:NYGenome\\tPU:HFKGLDSXX.1.CTCACCAA /gpfs/internal/sweng/production/Resources/GRCh38_1000genomes/GRCh38_full_analysis_set_plus_decoy_hla.fa /gpfs/internal/sequence/demux/ILLUMINA_NOVASEQ/SNA00404/181118_SNA00404_0046_AHFKGLDSXX/01.2018-11-20_11.05.20/CCDG_13607_B01_GRM_WGS/NYGC/Project_CCDG_13607_B01_GRM_WGS/Sample_NA12778/NA12778_CTCACCAA-CTAGGCAA_HFKGLDSXX_L001/fastq/NA12778_CTCACCAA-CTAGGCAA_HFKGLDSXX_L001_001.R1.fastq.gz /gpfs/internal/sequence/demux/ILLUMINA_NOVASEQ/SNA00404/181118_SNA00404_0046_AHFKGLDSXX/01.2018-11-20_11.05.20/CCDG_13607_B01_GRM_WGS/NYGC/Project_CCDG_13607_B01_GRM_WGS/Sample_NA12778/NA12778_CTCACCAA-CTAGGCAA_HFKGLDSXX_L001/fastq/NA12778_CTCACCAA-CTAGGCAA_HFKGLDSXX_L001_001.R2.fastq.gz\n",
      "@PG\tID:bwa.9\tPN:bwa\tVN:0.7.15-r1140\tCL:/data/NYGC/Software/bwa/bwa-0.7.15/bwa mem -Y -K 100000000 -t 16 -R @RG\\tID:NA12778_CTCACCAA-CTAGGCAA_HFKV5DSXX_L001\\tPL:illumina\\tPM:Unknown\\tLB:NA12778\\tDS:GRCh38\\tSM:NA12778\\tCN:NYGenome\\tPU:HFKV5DSXX.1.CTCACCAA /gpfs/internal/sweng/production/Resources/GRCh38_1000genomes/GRCh38_full_analysis_set_plus_decoy_hla.fa /gpfs/internal/sequence/demux/ILLUMINA_NOVASEQ/SNA00404/181118_SNA00404_0047_BHFKV5DSXX/01.2018-11-20_11.07.57/CCDG_13607_B01_GRM_WGS/NYGC/Project_CCDG_13607_B01_GRM_WGS/Sample_NA12778/NA12778_CTCACCAA-CTAGGCAA_HFKV5DSXX_L001/fastq/NA12778_CTCACCAA-CTAGGCAA_HFKV5DSXX_L001_001.R1.fastq.gz /gpfs/internal/sequence/demux/ILLUMINA_NOVASEQ/SNA00404/181118_SNA00404_0047_BHFKV5DSXX/01.2018-11-20_11.07.57/CCDG_13607_B01_GRM_WGS/NYGC/Project_CCDG_13607_B01_GRM_WGS/Sample_NA12778/NA12778_CTCACCAA-CTAGGCAA_HFKV5DSXX_L001/fastq/NA12778_CTCACCAA-CTAGGCAA_HFKV5DSXX_L001_001.R2.fastq.gz\n",
      "@PG\tID:bwa.A\tPN:bwa\tVN:0.7.15-r1140\tCL:/data/NYGC/Software/bwa/bwa-0.7.15/bwa mem -Y -K 100000000 -t 16 -R @RG\\tID:NA12778_CTCACCAA-CTAGGCAA_HFKGLDSXX_L004\\tPL:illumina\\tPM:Unknown\\tLB:NA12778\\tDS:GRCh38\\tSM:NA12778\\tCN:NYGenome\\tPU:HFKGLDSXX.4.CTCACCAA /gpfs/internal/sweng/production/Resources/GRCh38_1000genomes/GRCh38_full_analysis_set_plus_decoy_hla.fa /gpfs/internal/sequence/demux/ILLUMINA_NOVASEQ/SNA00404/181118_SNA00404_0046_AHFKGLDSXX/01.2018-11-20_11.05.20/CCDG_13607_B01_GRM_WGS/NYGC/Project_CCDG_13607_B01_GRM_WGS/Sample_NA12778/NA12778_CTCACCAA-CTAGGCAA_HFKGLDSXX_L004/fastq/NA12778_CTCACCAA-CTAGGCAA_HFKGLDSXX_L004_001.R1.fastq.gz /gpfs/internal/sequence/demux/ILLUMINA_NOVASEQ/SNA00404/181118_SNA00404_0046_AHFKGLDSXX/01.2018-11-20_11.05.20/CCDG_13607_B01_GRM_WGS/NYGC/Project_CCDG_13607_B01_GRM_WGS/Sample_NA12778/NA12778_CTCACCAA-CTAGGCAA_HFKGLDSXX_L004/fastq/NA12778_CTCACCAA-CTAGGCAA_HFKGLDSXX_L004_001.R2.fastq.gz\n",
      "@PG\tID:bwa.B\tPN:bwa\tVN:0.7.15-r1140\tCL:/data/NYGC/Software/bwa/bwa-0.7.15/bwa mem -Y -K 100000000 -t 16 -R @RG\\tID:NA12778_CTCACCAA-CTAGGCAA_HCKWTDSXX_L004\\tPL:illumina\\tPM:Unknown\\tLB:NA12778\\tDS:GRCh38\\tSM:NA12778\\tCN:NYGenome\\tPU:HCKWTDSXX.4.CTCACCAA /gpfs/internal/sweng/production/Resources/GRCh38_1000genomes/GRCh38_full_analysis_set_plus_decoy_hla.fa /gpfs/internal/sequence/demux/ILLUMINA_NOVASEQ/SNA00132/181109_SNA00132_0055_BHCKWTDSXX/01.2018-11-11_11.00.38/CCDG_13607_B01_GRM_WGS/NYGC/Project_CCDG_13607_B01_GRM_WGS/Sample_NA12778/NA12778_CTCACCAA-CTAGGCAA_HCKWTDSXX_L004/fastq/NA12778_CTCACCAA-CTAGGCAA_HCKWTDSXX_L004_001.R1.fastq.gz /gpfs/internal/sequence/demux/ILLUMINA_NOVASEQ/SNA00132/181109_SNA00132_0055_BHCKWTDSXX/01.2018-11-11_11.00.38/CCDG_13607_B01_GRM_WGS/NYGC/Project_CCDG_13607_B01_GRM_WGS/Sample_NA12778/NA12778_CTCACCAA-CTAGGCAA_HCKWTDSXX_L004/fastq/NA12778_CTCACCAA-CTAGGCAA_HCKWTDSXX_L004_001.R2.fastq.gz\n",
      "@PG\tID:GATK PrintReads\tVN:3.5-0-g36282e4\tCL:readGroup=null platform=null number=-1 sample_file=[] sample_name=[] simplify=false no_pg_tag=false\n"
     ]
    }
   ],
   "source": [
    "NA12778 = bam.FileReader(gzip.open('Genomes/NA12778_GRCh38_HLA_namesorted.bam'))\n",
    "for headerline in NA12778.header.split('\\n'):\n",
    "    if headerline[:3] == '@PG':\n",
    "        print(headerline)"
   ]
  },
  {
   "cell_type": "markdown",
   "metadata": {},
   "source": [
    "Ok so we can see a lot of programs have operated on this file, but there are no entries for samtools so we dont know the basis for the subsetting. Lets see if we can work it out."
   ]
  },
  {
   "cell_type": "code",
   "execution_count": 4,
   "metadata": {},
   "outputs": [
    {
     "name": "stdout",
     "output_type": "stream",
     "text": [
      "Counter({5: 1206714, 3343: 1855, 3326: 391, 3330: 327, 3309: 289, 3307: 284, 3328: 219, 3308: 204, 3329: 179, 3327: 179, 3170: 41, 3164: 38, 3165: 38, 3171: 37, 3167: 36, 3035: 35, 3034: 32, 3169: 31, 3038: 29, 3172: 26, 2877: 24, 3177: 24, 3190: 24, 2861: 24, 3041: 23, 2855: 23, 3166: 23, 2867: 22, 3033: 22, 3188: 21, 3189: 21, 3192: 21, 2863: 21, 2873: 20, 2853: 20, 2875: 20, 3184: 20, 3347: 20, 3168: 20, 2870: 20, 3173: 19, 2866: 19, 2852: 19, 2857: 19, 2871: 19, 3037: 19, 3174: 19, 3183: 18, 2884: 18, 3181: 18, 3070: 18, 3071: 18, 2879: 18, 2856: 18, 3306: 18, 2862: 18, 2885: 18, 3179: 17, 3074: 17, 3191: 17, 2859: 17, 3077: 17, 2878: 17, 2864: 17, 3178: 17, 2869: 16, 2860: 16, 3075: 16, 3079: 16, 3180: 15, 2970: 15, 3080: 15, 2872: 15, 2882: 15, 2956: 14, 3186: 14, 2881: 14, 2876: 14, 3039: 13, 2854: 13, 2865: 13, 2868: 13, 3176: 13, 2883: 13, 2874: 13, 3076: 12, 2967: 12, 3185: 12, 3072: 12, 3107: 12, 3353: 11, 2858: 11, 2962: 11, 3187: 11, 3102: 10, 3082: 10, 2968: 10, 3106: 10, 3040: 10, 3280: 9, 2959: 9, 2961: 9, 3284: 9, 3114: 9, 2960: 9, 2965: 8, 3036: 8, 2958: 8, 3175: 8, 3182: 8, 3355: 8, 3283: 8, 3344: 7, 3088: 7, 3081: 7, 3103: 7, 3354: 7, 3151: 7, 2957: 7, 3279: 7, 2969: 6, 3073: 6, 3113: 6, 3274: 6, 3030: 6, 3078: 5, 2966: 5, 3345: 5, 3155: 5, 3200: 5, 3112: 5, 2955: 5, 3094: 5, 3093: 5, 3286: 5, 3278: 5, 3154: 5, 3351: 5, 3156: 5, 3266: 5, 3357: 5, 2963: 5, 3362: 5, 2880: 5, 3100: 5, 3282: 4, 3207: 4, 2949: 4, 3089: 4, 3216: 4, 3097: 4, 3153: 4, 3157: 4, 3109: 4, 3281: 4, 3031: 4, 3086: 4, 3099: 4, 3268: 4, 2964: 4, 2945: 4, 3285: 4, 3087: 3, 3158: 3, 3161: 3, 3163: 3, 3211: 3, 3123: 3, 3096: 3, 3053: 3, 3110: 3, 3162: 3, 2954: 3, 2992: 3, 3217: 3, 2920: 3, 3108: 3, 3253: 3, 3356: 3, 2948: 3, 3159: 3, 3101: 3, 3026: 3, 3160: 2, 2994: 2, 3130: 2, 3203: 2, 3027: 2, 3202: 2, 3049: 2, 3032: 2, 2930: 2, 3150: 2, 2908: 2, 3196: 2, 3359: 2, 3133: 2, 3029: 2, 2944: 2, 3011: 2, 3270: 2, 3263: 2, 2971: 2, 3132: 2, 2950: 2, 3275: 2, 2926: 2, 2985: 2, 3199: 2, 3142: 2, 3262: 2, 3276: 2, 3264: 2, 3259: 2, 2998: 2, 3052: 2, 3252: 2, 2993: 2, 2918: 2, 3210: 2, 3195: 2, 3204: 2, 3267: 2, 3317: 1, 2995: 1, 2910: 1, 3205: 1, 3140: 1, 2927: 1, 2913: 1, 3117: 1, 3043: 1, 3212: 1, 3213: 1, 3066: 1, 2929: 1, 2986: 1, 2897: 1, 2911: 1, 3004: 1, 3119: 1, 3024: 1, 2915: 1, 2923: 1, 2990: 1, 2947: 1, 3084: 1, 3023: 1, 3289: 1, 2952: 1, 3008: 1, 3193: 1, 2973: 1, 3272: 1, 2849: 1, 3214: 1, 2940: 1, 3256: 1, 3271: 1, 3250: 1, 2953: 1, 3273: 1, 3098: 1, 3005: 1, 3311: 1, 3126: 1, 3006: 1, 3143: 1, 3277: 1, 3002: 1, 3209: 1, 3295: 1, 2933: 1, 3365: 1, 3236: 1, 2894: 1, 3091: 1, 2844: 1, 3141: 1, 3020: 1, 3255: 1, 3292: 1, 3206: 1, 3310: 1, 3363: 1, 3201: 1, 3152: 1, 2914: 1, 3128: 1, 2939: 1, 2899: 1, 3021: 1, 3339: 1, 3358: 1, 3352: 1, 2997: 1, 2912: 1, 2925: 1, 3251: 1, 2928: 1, 3092: 1, 2989: 1, 2987: 1, 2909: 1, 3095: 1, 3194: 1, 3349: 1, 3047: 1, 2943: 1, 3090: 1})\n"
     ]
    }
   ],
   "source": [
    "from collections import Counter\n",
    "id_counts = Counter()\n",
    "for align in NA12778:\n",
    "    id_counts[bam.get_ref_index(align)] += 1\n",
    "print(id_counts)"
   ]
  },
  {
   "cell_type": "markdown",
   "metadata": {},
   "source": [
    "We have over 1.2M reads from index 5, so that must be the chromosome that was specified in the samtools view region. We can look up its name:"
   ]
  },
  {
   "cell_type": "code",
   "execution_count": 5,
   "metadata": {},
   "outputs": [
    {
     "data": {
      "text/plain": [
       "'chr6'"
      ]
     },
     "execution_count": 5,
     "metadata": {},
     "output_type": "execute_result"
    }
   ],
   "source": [
    "NA12778.index_to_ref[5]"
   ]
  },
  {
   "cell_type": "markdown",
   "metadata": {},
   "source": [
    "Chromosome 6 makes sense at it is MHC related. Lets see if we can work out what the start and end of the selected regions were."
   ]
  },
  {
   "cell_type": "code",
   "execution_count": 6,
   "metadata": {},
   "outputs": [
    {
     "name": "stdout",
     "output_type": "stream",
     "text": [
      "Reads from chr6 start at 28509971 and end at 33480576\n"
     ]
    }
   ],
   "source": [
    "with bam.FileReader(gzip.open('Genomes/NA12778_GRCh38_HLA_namesorted.bam')) as NA12778:\n",
    "    pos = []\n",
    "    for align in NA12778:\n",
    "        if bam.get_ref_index(align) == 5:\n",
    "            pos.append(bam.get_pos(align))\n",
    "    print(f'Reads from {NA12778.index_to_ref[5]} start at {min(pos)} and end at {max(pos)}')"
   ]
  },
  {
   "cell_type": "markdown",
   "metadata": {},
   "source": [
    "Given that reads overlapping the region and their pairs will be included in the output, it looks like samtools view - chr:28510000-33480000 is the most likely command used to generate the file, likely converting from CRAM to BAM in the process. Now lets check if it has been sorted"
   ]
  },
  {
   "cell_type": "code",
   "execution_count": 7,
   "metadata": {},
   "outputs": [
    {
     "name": "stdout",
     "output_type": "stream",
     "text": [
      "queryname\n"
     ]
    }
   ],
   "source": [
    "NA12778 = bam.FileReader(gzip.open('Genomes/NA12778_GRCh38_HLA_namesorted.bam'))\n",
    "print(NA12778.sort_order)"
   ]
  },
  {
   "cell_type": "markdown",
   "metadata": {},
   "source": [
    "So just like it suggest in the filename this BAM has reads that map to the HLA region on chromosome 6 in a namesorted order. This is just what we need for the next step which is selecting those reads that have mappings on the HLA alt chromosomes, and writing them to a new file.\n",
    "\n",
    "To do this we will set up a bam.FileReader and a bam.FileWriter. We will copy across the header information for the new file from the original, and we will add an @PG line to indicate what we have done. It's a bit hard to make it completely reproducable with an ad hoc script, but we can show we did something and indicate our intent."
   ]
  },
  {
   "cell_type": "code",
   "execution_count": 8,
   "metadata": {},
   "outputs": [],
   "source": [
    "NA12778 = bam.FileReader(gzip.open('Genomes/NA12778_GRCh38_HLA_namesorted.bam'))\n",
    "NA12778_any_HLA_hits = bam.FileWriter('Genomes/NA12778_any_HLA_hits.bam')\n",
    "NA12778_any_HLA_hits.raw_header = NA12778.raw_header\n",
    "NA12778_any_HLA_hits.raw_refs = NA12778.raw_refs\n",
    "NA12778_any_HLA_hits.update_header(id = 'pylazybam_any_HLA',\n",
    "                                   program = 'pylazybam',\n",
    "                                   version = '0.1.0',\n",
    "                                   description = \"all alignments for reads where any alignment maps to a HLA alt contig\")\n",
    "NA12778_any_HLA_hits.write_header()"
   ]
  },
  {
   "cell_type": "markdown",
   "metadata": {},
   "source": [
    "We have a file to read from, a file to write to, and all we need now are some functions to manipulate the reads along the way. The first function is to get all the alignments that belong to a given read pair at once."
   ]
  },
  {
   "cell_type": "code",
   "execution_count": 9,
   "metadata": {},
   "outputs": [],
   "source": [
    "def get_alignment_batches(in_bam):\n",
    "    previous_name = None\n",
    "    alignbatch = []\n",
    "    for align in in_bam:\n",
    "        name = bam.get_raw_read_name(align, bam.get_len_read_name(align))\n",
    "        if previous_name and name != previous_name:\n",
    "            yield alignbatch\n",
    "            alignbatch = []\n",
    "        alignbatch.append(align)\n",
    "        previous_name = name\n",
    "    if alignbatch:\n",
    "        yield alignbatch"
   ]
  },
  {
   "cell_type": "markdown",
   "metadata": {},
   "source": [
    "Now we need a function that iterates through the batches of alignments and make a decision on each of the alignments. In our case it is going to find alignment batches where any alignment has a reference assignment that we are interested in."
   ]
  },
  {
   "cell_type": "code",
   "execution_count": 10,
   "metadata": {},
   "outputs": [],
   "source": [
    "def any_align_maps_to_ref(in_bam, refs = [0,]):\n",
    "    # Iterate through groups of alignments from the same read\n",
    "    for alignbatch in get_alignment_batches(in_bam):\n",
    "        # Iterate through alignments from the same read\n",
    "        for align in alignbatch:\n",
    "            if bam.get_ref_index(align) in refs:\n",
    "                yield alignbatch\n",
    "                break"
   ]
  },
  {
   "cell_type": "markdown",
   "metadata": {},
   "source": [
    "Ok so what alignment ids are we interested in? They are not human friendly so we will need to look them up in the `ref_to_index` dictionary on the `FileReader`"
   ]
  },
  {
   "cell_type": "code",
   "execution_count": 11,
   "metadata": {},
   "outputs": [],
   "source": [
    "HLA_refnames = [x for x in NA12778.ref_to_index.keys() if 'HLA' in x]            \n",
    "HLA_refids = [NA12778.ref_to_index[x] for x in HLA_refnames]"
   ]
  },
  {
   "cell_type": "markdown",
   "metadata": {},
   "source": [
    "So now that we have all the pieces we need lets collect out the reads we are interested in looking at. We are going to use timeit so we have an idea of what the perfomance is like."
   ]
  },
  {
   "cell_type": "code",
   "execution_count": 12,
   "metadata": {},
   "outputs": [
    {
     "name": "stdout",
     "output_type": "stream",
     "text": [
      "21 s ± 0 ns per loop (mean ± std. dev. of 1 run, 1 loop each)\n"
     ]
    }
   ],
   "source": [
    "%%timeit -n 1 -r 1\n",
    "for alignbatch in any_align_maps_to_ref(NA12778, HLA_refids):\n",
    "    for align in alignbatch:\n",
    "        NA12778_any_HLA_hits.write(align)"
   ]
  },
  {
   "cell_type": "code",
   "execution_count": 13,
   "metadata": {},
   "outputs": [],
   "source": [
    "#we will close the file to ensure the end of file marker is correctly written\n",
    "NA12778_any_HLA_hits.close()"
   ]
  },
  {
   "cell_type": "markdown",
   "metadata": {},
   "source": [
    "That took 20s on a seven year old MacBook Pro for 1.2M reads. Reasonable for interactive use. More typical files of 100M reads you will want to go to lunch. Something like the original 700M read file will take 3-4h."
   ]
  },
  {
   "cell_type": "markdown",
   "metadata": {},
   "source": [
    "## Plotting AS vs XS scores\n",
    "\n",
    "Now that we have the reads we are interested in one file we can ask a slightly more intersting question - what does the distribution of AS (reported primary alignment) and XS (next best alignment) scores look like for these reads."
   ]
  },
  {
   "cell_type": "code",
   "execution_count": 14,
   "metadata": {},
   "outputs": [],
   "source": [
    "NA12778_any_HLA_hits = bam.FileReader(gzip.open('Genomes/NA12778_any_HLA_hits.bam'))"
   ]
  },
  {
   "cell_type": "code",
   "execution_count": 15,
   "metadata": {},
   "outputs": [],
   "source": [
    "primary_AS_XS = []\n",
    "for align in NA12778_any_HLA_hits:\n",
    "    if not bam.is_flag(align, bam.FLAGS['secondary']):\n",
    "        primary_AS_XS.append((bam.get_AS(align,no_tag=0),bam.get_XS(align,no_tag=0)))"
   ]
  },
  {
   "cell_type": "code",
   "execution_count": 16,
   "metadata": {},
   "outputs": [
    {
     "name": "stdout",
     "output_type": "stream",
     "text": [
      "[(0, 0), (0, 0), (0, 0), (150, 150), (150, 150)] 10079\n"
     ]
    }
   ],
   "source": [
    "print(primary_AS_XS[:5], len(primary_AS_XS))"
   ]
  },
  {
   "cell_type": "code",
   "execution_count": 17,
   "metadata": {},
   "outputs": [],
   "source": [
    "from matplotlib.pyplot import hexbin, figure"
   ]
  },
  {
   "cell_type": "code",
   "execution_count": 18,
   "metadata": {},
   "outputs": [
    {
     "data": {
      "text/plain": [
       "<matplotlib.collections.PolyCollection at 0x11f9776d0>"
      ]
     },
     "execution_count": 18,
     "metadata": {},
     "output_type": "execute_result"
    },
    {
     "data": {
      "image/png": "[encoded data removed]",
      "text/plain": [
       "<Figure size 720x720 with 1 Axes>"
      ]
     },
     "metadata": {
      "needs_background": "light"
     },
     "output_type": "display_data"
    }
   ],
   "source": [
    "fig = figure(figsize=(10,10))\n",
    "ax = fig.add_subplot(1, 1, 1, aspect=1)\n",
    "ax.set_xlim(120,152)\n",
    "ax.set_ylim(120,152)\n",
    "ax.set_ylabel(\"XS - Alignment score of the next best alignment\")\n",
    "ax.set_xlabel(\"AS - Alignment score of the primary read\")\n",
    "ax.set_title(\"AS vs XS scores for HLA reads with secondary mapping to a GRCh38 HLA alt contig\")\n",
    "hexbin(x=[x[0] for x in primary_AS_XS],y=[y[1] for y in primary_AS_XS], gridsize=75, bins='log', cmap='Greys')"
   ]
  },
  {
   "cell_type": "markdown",
   "metadata": {},
   "source": [
    "This is a simple example, but by combining the alignbatch approach above more complex examples that look at relationships between different alignments of a read pair and/or factors like the presence and type of variants can easily be constructed."
   ]
  },
  {
   "cell_type": "markdown",
   "metadata": {},
   "source": [
    "## Outputing reads as fastq\n",
    "Sometimes it is useful to output a subset of reads for further analysis, and occasionally you will want to do this in fastq format"
   ]
  },
  {
   "cell_type": "code",
   "execution_count": 19,
   "metadata": {},
   "outputs": [
    {
     "name": "stdout",
     "output_type": "stream",
     "text": [
      "@A00132:55:HCKWTDSXX:1:1102:27263:27759\n",
      "AGAAAGAAAGAAAAAGGAAGGAAGGAAGCACCGAAGGAAGGCACCCACGAAGGAAGGCAGGAAAAGCAGACATACAGGCTGAAAGTGAAGGAATGAAAACAGCTATTCCATGCAAATGGTAACCAAAATACAGCAAGAGTGATTACACTT\n",
      "+\n",
      "?????+?+?++?++?+?????+?+++55+++%+??++?5+5++++++%+??++?5+?+?++???5?+?++????????????????????+??????????????+?????????+????????????+???????????????????5?\n",
      "\n"
     ]
    }
   ],
   "source": [
    "test = b'\\xcd\\x01\\x00\\x00\\xf5\\x0c\\x00\\x00^\\x08\\x00\\x00\\'\\tI\\x12\\x02\\x00s\\x08\\x96\\x00\\x00\\x00\\x0b\\x00\\x00\\x00h\\x88\\xeb\\x04\\xd0\\x01\\x00\\x00A00132:55:HCKWTDSXX:1:1102:27263:27759\\x00\\xf0\\x01\\x00\\x00t\\x07\\x00\\x00\\x14\\x11\\x14\\x11\\x14\\x11\\x11\\x14A\\x14A\\x14A\\x14!\"A\\x14A\\x14B\\x12\"\\x12A\\x14A\\x14B\\x14A\\x11\\x14!A!\\x81!D(A\\x11HA\\x14A\\x18A\\x11\\x12\\x14(\\x18\\x82!\\x84!\\x11\\x84H\\x11\"\\x11\\x11\\x81!B\\x11AHA\\x88\\x12\\x12\\x88\\x1e\\x1e\\x1e\\x1e\\x1e\\n\\x1e\\n\\x1e\\n\\n\\x1e\\n\\n\\x1e\\n\\x1e\\x1e\\x1e\\x1e\\x1e\\n\\x1e\\n\\n\\n\\x14\\x14\\n\\n\\n\\x04\\n\\x1e\\x1e\\n\\n\\x1e\\x14\\n\\x14\\n\\n\\n\\n\\n\\n\\x04\\n\\x1e\\x1e\\n\\n\\x1e\\x14\\n\\x1e\\n\\x1e\\n\\n\\x1e\\x1e\\x1e\\x14\\x1e\\n\\x1e\\n\\n\\x1e\\x1e\\x1e\\x1e\\x1e\\x1e\\x1e\\x1e\\x1e\\x1e\\x1e\\x1e\\x1e\\x1e\\x1e\\x1e\\x1e\\x1e\\x1e\\x1e\\n\\x1e\\x1e\\x1e\\x1e\\x1e\\x1e\\x1e\\x1e\\x1e\\x1e\\x1e\\x1e\\x1e\\x1e\\n\\x1e\\x1e\\x1e\\x1e\\x1e\\x1e\\x1e\\x1e\\x1e\\n\\x1e\\x1e\\x1e\\x1e\\x1e\\x1e\\x1e\\x1e\\x1e\\x1e\\x1e\\x1e\\n\\x1e\\x1e\\x1e\\x1e\\x1e\\x1e\\x1e\\x1e\\x1e\\x1e\\x1e\\x1e\\x1e\\x1e\\x1e\\x1e\\x1e\\x1e\\x1e\\x14\\x1eSAZchr12,82544431,+,102M48S,60,3;\\x00XAZchr12,+82544561,122S28M,0;\\x00MCZ150M\\x00PGZMarkDuplicates\\x00ASc\\x1eXSc\\x1cMDZ0G30\\x00NMI\\x01\\x00\\x00\\x00RGZNA12778_CTCACCAA-CTAGGCAA_HCKWTDSXX_L001\\x00'\n",
    "\n",
    "def align_to_fastq(align):\n",
    "    readname_length = bam.get_len_read_name(align)\n",
    "    number_cigar_operations = bam.get_number_cigar_operations(align)\n",
    "    sequence_length = bam.get_len_sequence(align)\n",
    "    readname = bam.get_read_name(align, readname_length)\n",
    "    sequence = bam.decode_sequence(bam.get_raw_sequence(align, readname_length, number_cigar_operations, sequence_length))\n",
    "    qual = bam.decode_base_qual(bam.get_raw_base_qual(align, readname_length, number_cigar_operations, sequence_length))\n",
    "    return f\"@{readname}\\n{sequence}\\n{'+'}\\n{qual}\\n\"\n",
    "\n",
    "\n",
    "print(align_to_fastq(test))"
   ]
  },
  {
   "cell_type": "code",
   "execution_count": 20,
   "metadata": {},
   "outputs": [],
   "source": [
    "fastqf = open('NA12778_any_HLA_hits.R1.fastq.gz','w')\n",
    "fastqr = open('NA12778_any_HLA_hits.R2.fastq.gz','w')"
   ]
  },
  {
   "cell_type": "code",
   "execution_count": 21,
   "metadata": {},
   "outputs": [],
   "source": [
    "NA12778_any_HLA_hits = bam.FileReader(gzip.open('Genomes/NA12778_any_HLA_hits.bam'))\n",
    "for align in NA12778_any_HLA_hits:\n",
    "    if not bam.is_flag(align, bam.FLAGS['secondary']):\n",
    "        if bam.is_flag(align, bam.FLAGS['forward']):\n",
    "            fastqf.write(align_to_fastq(align))\n",
    "        else:\n",
    "            fastqr.write(align_to_fastq(align))\n",
    "fastqf.close()\n",
    "fastqr.close()"
   ]
  },
  {
   "cell_type": "markdown",
   "metadata": {},
   "source": [
    "### your uses\n",
    "If you have an interesting use of pylazybam feel free to send a pull request against the readme and I will add it to a list of contributed example scripts"
   ]
  },
  {
   "cell_type": "code",
   "execution_count": null,
   "metadata": {},
   "outputs": [],
   "source": []
  }
 ],
 "metadata": {
  "kernelspec": {
   "display_name": "Python 3",
   "language": "python",
   "name": "python3"
  },
  "language_info": {
   "codemirror_mode": {
    "name": "ipython",
    "version": 3
   },
   "file_extension": ".py",
   "mimetype": "text/x-python",
   "name": "python",
   "nbconvert_exporter": "python",
   "pygments_lexer": "ipython3",
   "version": "3.7.4"
  }
 },
 "nbformat": 4,
 "nbformat_minor": 2
}
